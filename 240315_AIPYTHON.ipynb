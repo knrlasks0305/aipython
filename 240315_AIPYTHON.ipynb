{
  "nbformat": 4,
  "nbformat_minor": 0,
  "metadata": {
    "colab": {
      "provenance": []
    },
    "kernelspec": {
      "name": "python3",
      "display_name": "Python 3"
    },
    "language_info": {
      "name": "python"
    }
  },
  "cells": [
    {
      "cell_type": "markdown",
      "source": [
        "**두 수를 입력받아서 합을 출력하는 프로그램**"
      ],
      "metadata": {
        "id": "Pqvv8GkN_4ql"
      }
    },
    {
      "cell_type": "code",
      "execution_count": 1,
      "metadata": {
        "colab": {
          "base_uri": "https://localhost:8080/"
        },
        "id": "u9NTU33A-cOj",
        "outputId": "9956875a-1f95-4628-ac37-8a014c47aaf8"
      },
      "outputs": [
        {
          "output_type": "stream",
          "name": "stdout",
          "text": [
            "두 정수를 입력하세요: 1 2\n",
            "두 정수의 합은: 3\n"
          ]
        }
      ],
      "source": [
        "A, B = map(int, input(\"두 정수를 입력하세요: \").split())\n",
        "result = A + B\n",
        "print(\"두 정수의 합은:\", result)"
      ]
    },
    {
      "cell_type": "code",
      "source": [
        "print(\"Hello Python\")"
      ],
      "metadata": {
        "colab": {
          "base_uri": "https://localhost:8080/"
        },
        "id": "LHkJlUib_c4-",
        "outputId": "6c6d2e21-c7c9-4ff7-ac5d-90654bd272cf"
      },
      "execution_count": 2,
      "outputs": [
        {
          "output_type": "stream",
          "name": "stdout",
          "text": [
            "Hello Python\n"
          ]
        }
      ]
    },
    {
      "cell_type": "code",
      "source": [],
      "metadata": {
        "id": "s_EAyxjq_l6W"
      },
      "execution_count": null,
      "outputs": []
    }
  ]
}